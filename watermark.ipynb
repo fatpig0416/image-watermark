{
 "cells": [
  {
   "cell_type": "code",
   "execution_count": 7,
   "metadata": {},
   "outputs": [],
   "source": [
    "from PIL import Image"
   ]
  },
  {
   "cell_type": "code",
   "execution_count": 13,
   "metadata": {},
   "outputs": [
    {
     "name": "stdout",
     "output_type": "stream",
     "text": [
      "<class 'PIL.JpegImagePlugin.JpegImageFile'>\n"
     ]
    }
   ],
   "source": [
    "image = Image.open('./images/original.jpg')\n",
    "# if successful, should return an Image object:\n",
    "print(type(image))  # output: <class 'PIL.JpegImagePlugin.JpegImageFile'>"
   ]
  },
  {
   "cell_type": "code",
   "execution_count": 14,
   "metadata": {},
   "outputs": [],
   "source": [
    "# to actually open and view it.\n",
    "# image.show()"
   ]
  },
  {
   "cell_type": "code",
   "execution_count": 15,
   "metadata": {},
   "outputs": [
    {
     "name": "stdout",
     "output_type": "stream",
     "text": [
      "JPEG\n"
     ]
    }
   ],
   "source": [
    "# The file format of the source file:\n",
    "print((image.format)) # Output: JPEG"
   ]
  },
  {
   "cell_type": "code",
   "execution_count": 16,
   "metadata": {},
   "outputs": [
    {
     "name": "stdout",
     "output_type": "stream",
     "text": [
      "RGB\n"
     ]
    }
   ],
   "source": [
    "# The pixel format, i.e. RGB\n",
    "print(image.mode)"
   ]
  },
  {
   "cell_type": "code",
   "execution_count": 17,
   "metadata": {},
   "outputs": [
    {
     "name": "stdout",
     "output_type": "stream",
     "text": [
      "(1440, 900)\n"
     ]
    }
   ],
   "source": [
    "# Size in pixels\n",
    "print(image.size)"
   ]
  },
  {
   "cell_type": "code",
   "execution_count": 18,
   "metadata": {},
   "outputs": [],
   "source": [
    "# saving an image as a new image; can also change file format i.e. jpg -> png\n",
    "image.save('./images/new_image.png')"
   ]
  },
  {
   "cell_type": "code",
   "execution_count": 19,
   "metadata": {
    "scrolled": true
   },
   "outputs": [
    {
     "name": "stdout",
     "output_type": "stream",
     "text": [
      "(400, 400)\n"
     ]
    }
   ],
   "source": [
    "# lets start to use and modify new_image.png\n",
    "# this is not a good solution than thumbnail bellow\n",
    "img = Image.open('./images/new_image.png')\n",
    "#resizing it now to 400 pixels x 400 pixels:\n",
    "img = image.resize((400, 400))\n",
    "# save it as new_image_400x400 and as a JPG file:\n",
    "img.save('./images/new_image_400x400.jpg')\n",
    "print(img.size)"
   ]
  },
  {
   "cell_type": "code",
   "execution_count": 20,
   "metadata": {},
   "outputs": [],
   "source": [
    "# img.show() # will open the image on your screen"
   ]
  },
  {
   "cell_type": "code",
   "execution_count": 21,
   "metadata": {},
   "outputs": [
    {
     "name": "stdout",
     "output_type": "stream",
     "text": [
      "(400, 250)\n"
     ]
    }
   ],
   "source": [
    "# takes 2 ints max_width x max_height of the thumbnail.\n",
    "image = Image.open('./images/new_image.png')\n",
    "image.thumbnail((400, 400))\n",
    "image.save('./images/image_thumbnail.jpg')\n",
    "print(image.size)"
   ]
  },
  {
   "cell_type": "code",
   "execution_count": 22,
   "metadata": {},
   "outputs": [],
   "source": [
    "image = Image.open('./images/original.jpg')\n",
    "logo = Image.open('./images/logo.png')\n",
    "\n",
    "image_copy = image.copy()\n",
    "\n",
    "position = ((image_copy.width - logo.width), (image_copy.height - logo.height))\n",
    "\n",
    "# modify the paste by adding the logo as the third argument as per the explanation above.\n",
    "image_copy.paste(logo, position, logo)\n",
    "\n",
    "image_copy.save('./images/pasted_image_with_trans_backgnd.jpg')"
   ]
  },
  {
   "cell_type": "code",
   "execution_count": 24,
   "metadata": {},
   "outputs": [],
   "source": [
    "# add watermark to the whole image\n",
    "import cv2\n",
    "import numpy\n",
    "image = './images/original.jpg'\n",
    "logo = './images/logo.png'\n",
    "final_image_path='./images/watermarked.png'\n",
    "\n",
    "#  blurring\n",
    "# read image\n",
    "src = cv2.imread(image, cv2.IMREAD_UNCHANGED)\n",
    "# apply gaussian blur on src image\n",
    "dst = cv2.blur(src,(7,7),cv2.BORDER_DEFAULT)\n",
    "# dst = cv2.GaussianBlur(src,(7,7),cv2.BORDER_DEFAULT)\n",
    "blurred = './images/blurred.png'\n",
    "\n",
    "cv2.imwrite(blurred,dst)\n",
    "# end blurring\n",
    "\n",
    "main = Image.open(blurred)\n",
    "mark = Image.open(logo)\n",
    "mask = mark.convert('L').point(lambda x: min(x, 25))\n",
    "\n",
    "# mark.putalpha(mask)\n",
    "\n",
    "mark_width, mark_height = mark.size\n",
    "main_width, main_height = main.size\n",
    "aspect_ratio = mark_width / mark_height\n",
    "new_mark_width = main_width * 0.25\n",
    "mark.thumbnail((new_mark_width, new_mark_width / aspect_ratio), Image.ANTIALIAS)\n",
    "\n",
    "tmp_img = Image.new('RGB', main.size)\n",
    "\n",
    "for i in range(0, tmp_img.size[0], mark.size[0]):\n",
    "    for j in range(0, tmp_img.size[1], mark.size[1]):\n",
    "        main.paste(mark, (i, j), mark)\n",
    "        main.thumbnail((8000, 8000), Image.ANTIALIAS)\n",
    "        main.save(final_image_path, quality=100)\n",
    "watermarked = Image.open(final_image_path);\n",
    "watermarked.show()"
   ]
  },
  {
   "cell_type": "code",
   "execution_count": null,
   "metadata": {},
   "outputs": [],
   "source": []
  }
 ],
 "metadata": {
  "kernelspec": {
   "display_name": "Python 3",
   "language": "python",
   "name": "python3"
  },
  "language_info": {
   "codemirror_mode": {
    "name": "ipython",
    "version": 3
   },
   "file_extension": ".py",
   "mimetype": "text/x-python",
   "name": "python",
   "nbconvert_exporter": "python",
   "pygments_lexer": "ipython3",
   "version": "3.7.4"
  }
 },
 "nbformat": 4,
 "nbformat_minor": 2
}
